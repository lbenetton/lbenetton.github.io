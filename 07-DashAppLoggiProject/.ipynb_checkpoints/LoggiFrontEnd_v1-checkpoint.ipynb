{
 "cells": [
  {
   "cell_type": "code",
   "execution_count": 1,
   "metadata": {},
   "outputs": [],
   "source": [
    "import dash\n",
    "import dash_core_components as dcc\n",
    "import dash_html_components as html\n",
    "import pandas as pd\n",
    "import numpy as np\n",
    "\n",
    "from dash.dependencies import Input, Output\n",
    "from plotly import graph_objs as go\n",
    "from plotly.graph_objs import *\n",
    "from datetime import datetime as dt"
   ]
  },
  {
   "cell_type": "code",
   "execution_count": 4,
   "metadata": {},
   "outputs": [],
   "source": [
    "df_geo = pd.read_csv('data/LoggiGeoDrivers.csv', index_col=0, parse_dates=True)\n",
    "df_drv = pd.read_csv('data/LoggiPredict.csv', index_col=0, parse_dates=True)"
   ]
  },
  {
   "cell_type": "code",
   "execution_count": 6,
   "metadata": {
    "scrolled": true
   },
   "outputs": [
    {
     "data": {
      "text/html": [
       "<div>\n",
       "<style scoped>\n",
       "    .dataframe tbody tr th:only-of-type {\n",
       "        vertical-align: middle;\n",
       "    }\n",
       "\n",
       "    .dataframe tbody tr th {\n",
       "        vertical-align: top;\n",
       "    }\n",
       "\n",
       "    .dataframe thead th {\n",
       "        text-align: right;\n",
       "    }\n",
       "</style>\n",
       "<table border=\"1\" class=\"dataframe\">\n",
       "  <thead>\n",
       "    <tr style=\"text-align: right;\">\n",
       "      <th></th>\n",
       "      <th>sent_date</th>\n",
       "      <th>lat</th>\n",
       "      <th>lng</th>\n",
       "      <th>weekday</th>\n",
       "      <th>hour</th>\n",
       "    </tr>\n",
       "    <tr>\n",
       "      <th>driver_id</th>\n",
       "      <th></th>\n",
       "      <th></th>\n",
       "      <th></th>\n",
       "      <th></th>\n",
       "      <th></th>\n",
       "    </tr>\n",
       "  </thead>\n",
       "  <tbody>\n",
       "    <tr>\n",
       "      <td>417cb652936ecc94e4212afcebf547f2</td>\n",
       "      <td>2020-03-16 14:00:00</td>\n",
       "      <td>-23.474533</td>\n",
       "      <td>-46.523727</td>\n",
       "      <td>1.0</td>\n",
       "      <td>14.0</td>\n",
       "    </tr>\n",
       "    <tr>\n",
       "      <td>a86724907acca94e49108ccc18841849</td>\n",
       "      <td>2020-03-16 14:00:00</td>\n",
       "      <td>-23.505417</td>\n",
       "      <td>-46.549786</td>\n",
       "      <td>1.0</td>\n",
       "      <td>14.0</td>\n",
       "    </tr>\n",
       "    <tr>\n",
       "      <td>e2139b28068eadb5332bf37d845ee011</td>\n",
       "      <td>2020-03-16 14:05:00</td>\n",
       "      <td>-23.519316</td>\n",
       "      <td>-46.510773</td>\n",
       "      <td>1.0</td>\n",
       "      <td>14.0</td>\n",
       "    </tr>\n",
       "    <tr>\n",
       "      <td>d7a718b537b3cfb6121c4c52cf30ad05</td>\n",
       "      <td>2020-03-16 14:05:00</td>\n",
       "      <td>-23.460049</td>\n",
       "      <td>-46.561188</td>\n",
       "      <td>1.0</td>\n",
       "      <td>14.0</td>\n",
       "    </tr>\n",
       "    <tr>\n",
       "      <td>0e5c42fd3a14cc1138d7296de738073c</td>\n",
       "      <td>2020-03-16 14:05:00</td>\n",
       "      <td>-23.514887</td>\n",
       "      <td>-46.538296</td>\n",
       "      <td>1.0</td>\n",
       "      <td>14.0</td>\n",
       "    </tr>\n",
       "  </tbody>\n",
       "</table>\n",
       "</div>"
      ],
      "text/plain": [
       "                                            sent_date        lat        lng  \\\n",
       "driver_id                                                                     \n",
       "417cb652936ecc94e4212afcebf547f2  2020-03-16 14:00:00 -23.474533 -46.523727   \n",
       "a86724907acca94e49108ccc18841849  2020-03-16 14:00:00 -23.505417 -46.549786   \n",
       "e2139b28068eadb5332bf37d845ee011  2020-03-16 14:05:00 -23.519316 -46.510773   \n",
       "d7a718b537b3cfb6121c4c52cf30ad05  2020-03-16 14:05:00 -23.460049 -46.561188   \n",
       "0e5c42fd3a14cc1138d7296de738073c  2020-03-16 14:05:00 -23.514887 -46.538296   \n",
       "\n",
       "                                  weekday  hour  \n",
       "driver_id                                        \n",
       "417cb652936ecc94e4212afcebf547f2      1.0  14.0  \n",
       "a86724907acca94e49108ccc18841849      1.0  14.0  \n",
       "e2139b28068eadb5332bf37d845ee011      1.0  14.0  \n",
       "d7a718b537b3cfb6121c4c52cf30ad05      1.0  14.0  \n",
       "0e5c42fd3a14cc1138d7296de738073c      1.0  14.0  "
      ]
     },
     "execution_count": 6,
     "metadata": {},
     "output_type": "execute_result"
    }
   ],
   "source": [
    "df_geo.head()"
   ]
  },
  {
   "cell_type": "code",
   "execution_count": null,
   "metadata": {},
   "outputs": [],
   "source": []
  }
 ],
 "metadata": {
  "kernelspec": {
   "display_name": "Python 3",
   "language": "python",
   "name": "python3"
  },
  "language_info": {
   "codemirror_mode": {
    "name": "ipython",
    "version": 3
   },
   "file_extension": ".py",
   "mimetype": "text/x-python",
   "name": "python",
   "nbconvert_exporter": "python",
   "pygments_lexer": "ipython3",
   "version": "3.7.4"
  }
 },
 "nbformat": 4,
 "nbformat_minor": 2
}
