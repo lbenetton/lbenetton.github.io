{
 "cells": [
  {
   "cell_type": "code",
   "execution_count": 69,
   "metadata": {},
   "outputs": [],
   "source": [
    "import dash\n",
    "import dash_html_components as html\n",
    "import dash_core_components as dcc\n",
    "import plotly.graph_objects as go\n",
    "import pandas as pd\n",
    "from dash.dependencies import Input, Output\n"
   ]
  },
  {
   "cell_type": "code",
   "execution_count": 77,
   "metadata": {},
   "outputs": [],
   "source": [
    "df_geo = pd.read_csv('data/LoggiGeoDrivers.csv', index_col='sent_date')\n",
    "df_drv = pd.read_csv('data/LoggiPredict.csv', index_col=0)"
   ]
  },
  {
   "cell_type": "code",
   "execution_count": 80,
   "metadata": {
    "scrolled": true
   },
   "outputs": [
    {
     "data": {
      "text/html": [
       "<div>\n",
       "<style scoped>\n",
       "    .dataframe tbody tr th:only-of-type {\n",
       "        vertical-align: middle;\n",
       "    }\n",
       "\n",
       "    .dataframe tbody tr th {\n",
       "        vertical-align: top;\n",
       "    }\n",
       "\n",
       "    .dataframe thead th {\n",
       "        text-align: right;\n",
       "    }\n",
       "</style>\n",
       "<table border=\"1\" class=\"dataframe\">\n",
       "  <thead>\n",
       "    <tr style=\"text-align: right;\">\n",
       "      <th></th>\n",
       "      <th>drivers</th>\n",
       "    </tr>\n",
       "    <tr>\n",
       "      <th>hour</th>\n",
       "      <th></th>\n",
       "    </tr>\n",
       "  </thead>\n",
       "  <tbody>\n",
       "    <tr>\n",
       "      <td>7.0</td>\n",
       "      <td>143.405263</td>\n",
       "    </tr>\n",
       "    <tr>\n",
       "      <td>8.0</td>\n",
       "      <td>168.127330</td>\n",
       "    </tr>\n",
       "    <tr>\n",
       "      <td>9.0</td>\n",
       "      <td>190.628922</td>\n",
       "    </tr>\n",
       "    <tr>\n",
       "      <td>10.0</td>\n",
       "      <td>177.319529</td>\n",
       "    </tr>\n",
       "    <tr>\n",
       "      <td>11.0</td>\n",
       "      <td>176.686493</td>\n",
       "    </tr>\n",
       "    <tr>\n",
       "      <td>12.0</td>\n",
       "      <td>155.466044</td>\n",
       "    </tr>\n",
       "    <tr>\n",
       "      <td>13.0</td>\n",
       "      <td>155.745061</td>\n",
       "    </tr>\n",
       "    <tr>\n",
       "      <td>14.0</td>\n",
       "      <td>151.862345</td>\n",
       "    </tr>\n",
       "    <tr>\n",
       "      <td>15.0</td>\n",
       "      <td>128.625618</td>\n",
       "    </tr>\n",
       "    <tr>\n",
       "      <td>16.0</td>\n",
       "      <td>142.582942</td>\n",
       "    </tr>\n",
       "    <tr>\n",
       "      <td>17.0</td>\n",
       "      <td>125.893453</td>\n",
       "    </tr>\n",
       "    <tr>\n",
       "      <td>18.0</td>\n",
       "      <td>127.516528</td>\n",
       "    </tr>\n",
       "    <tr>\n",
       "      <td>19.0</td>\n",
       "      <td>109.724060</td>\n",
       "    </tr>\n",
       "    <tr>\n",
       "      <td>20.0</td>\n",
       "      <td>94.669189</td>\n",
       "    </tr>\n",
       "    <tr>\n",
       "      <td>21.0</td>\n",
       "      <td>84.828801</td>\n",
       "    </tr>\n",
       "  </tbody>\n",
       "</table>\n",
       "</div>"
      ],
      "text/plain": [
       "         drivers\n",
       "hour            \n",
       "7.0   143.405263\n",
       "8.0   168.127330\n",
       "9.0   190.628922\n",
       "10.0  177.319529\n",
       "11.0  176.686493\n",
       "12.0  155.466044\n",
       "13.0  155.745061\n",
       "14.0  151.862345\n",
       "15.0  128.625618\n",
       "16.0  142.582942\n",
       "17.0  125.893453\n",
       "18.0  127.516528\n",
       "19.0  109.724060\n",
       "20.0   94.669189\n",
       "21.0   84.828801"
      ]
     },
     "execution_count": 80,
     "metadata": {},
     "output_type": "execute_result"
    }
   ],
   "source": [
    "df = df_drv.groupby('hour')['drivers'].mean().reset_index()\n",
    "df = df.set_index('hour')\n",
    "df"
   ]
  },
  {
   "cell_type": "code",
   "execution_count": 72,
   "metadata": {},
   "outputs": [],
   "source": [
    "# Initialize the app\n",
    "app = dash.Dash(__name__)\n",
    "app.config.suppress_callback_exceptions = True"
   ]
  },
  {
   "cell_type": "code",
   "execution_count": 89,
   "metadata": {},
   "outputs": [],
   "source": [
    "app.layout = html.Div(\n",
    "    children=[\n",
    "        html.Div(className='row',\n",
    "                 children=[\n",
    "                    html.Div(className='four columns div-user-controls',\n",
    "                             children=[\n",
    "                                 html.H2('DASH - LOGGI Last-Mile'),\n",
    "                                 html.P('DS4A Loggi Last Mile Project'),\n",
    "                                 html.P('Pick an hour'),\n",
    "                                 html.Div(\n",
    "                                     className='div-for-dropdown',\n",
    "                                     children=[\n",
    "                                         dcc.Dropdown(id='hourselector', options=('7','8','9'),\n",
    "                                                      multi=True, value=df['drivers'].sort_values(),\n",
    "                                                      style={'backgroundColor': '#1E1E1E'},\n",
    "                                                      className='stockselector'\n",
    "                                                      ),\n",
    "                                     ],\n",
    "                                     style={'color': '#1E1E1E'})\n",
    "                                ]\n",
    "                             ),\n",
    "                    html.Div(className='eight columns div-for-charts bg-grey',\n",
    "                             children=[\n",
    "                                 dcc.Graph(id='timeseries', config={'displayModeBar': False}, animate=True)\n",
    "                             ])\n",
    "                              ])\n",
    "        ]\n",
    "\n",
    ")"
   ]
  },
  {
   "cell_type": "code",
   "execution_count": 90,
   "metadata": {},
   "outputs": [],
   "source": [
    "# Callback for timeseries price\n",
    "@app.callback(Output('timeseries', 'figure'),\n",
    "              [Input('stockselector', 'value')])\n",
    "def update_graph(selected_dropdown_value):\n",
    "    trace1 = []\n",
    "    df_sub = df\n",
    "    for stock in selected_dropdown_value:\n",
    "        trace1.append(go.Scatter(x=df_sub.index,\n",
    "                                 y=df_sub['drivers'],\n",
    "                                 mode='lines',\n",
    "                                 opacity=0.7,\n",
    "                                 name=stock,\n",
    "                                 textposition='bottom center'))\n",
    "    traces = [trace1]\n",
    "    data = [val for sublist in traces for val in sublist]\n",
    "    figure = {'data': data,\n",
    "              'layout': go.Layout(\n",
    "                  colorway=[\"#5E0DAC\", '#FF4F00', '#375CB1', '#FF7400', '#FFF400', '#FF0056'],\n",
    "                  template='plotly_dark',\n",
    "                  paper_bgcolor='rgba(0, 0, 0, 0)',\n",
    "                  plot_bgcolor='rgba(0, 0, 0, 0)',\n",
    "                  margin={'b': 15},\n",
    "                  hovermode='x',\n",
    "                  autosize=True,\n",
    "                  title={'text': 'Stock Prices', 'font': {'color': 'white'}, 'x': 0.5},\n",
    "                  xaxis={'range': [df_sub.index.min(), df_sub.index.max()]},\n",
    "              ),\n",
    "\n",
    "              }\n",
    "\n",
    "    return figure"
   ]
  },
  {
   "cell_type": "code",
   "execution_count": 92,
   "metadata": {},
   "outputs": [
    {
     "name": "stdout",
     "output_type": "stream",
     "text": [
      "Running on http://127.0.0.1:8050/\n",
      "Running on http://127.0.0.1:8050/\n",
      "Running on http://127.0.0.1:8050/\n",
      "Running on http://127.0.0.1:8050/\n",
      "Running on http://127.0.0.1:8050/\n",
      "Running on http://127.0.0.1:8050/\n",
      "Running on http://127.0.0.1:8050/\n",
      "Debugger PIN: 814-647-262\n",
      "Debugger PIN: 814-647-262\n",
      "Debugger PIN: 814-647-262\n",
      "Debugger PIN: 814-647-262\n",
      "Debugger PIN: 814-647-262\n",
      "Debugger PIN: 814-647-262\n",
      "Debugger PIN: 814-647-262\n",
      " * Serving Flask app \"__main__\" (lazy loading)\n",
      " * Environment: production\n",
      "   WARNING: This is a development server. Do not use it in a production deployment.\n",
      "   Use a production WSGI server instead.\n",
      " * Debug mode: on\n"
     ]
    },
    {
     "ename": "SystemExit",
     "evalue": "1",
     "output_type": "error",
     "traceback": [
      "An exception has occurred, use %tb to see the full traceback.\n",
      "\u001b[1;31mSystemExit\u001b[0m\u001b[1;31m:\u001b[0m 1\n"
     ]
    }
   ],
   "source": [
    "# Run the app\n",
    "if __name__ == '__main__':\n",
    "    app.run_server(debug=True)"
   ]
  }
 ],
 "metadata": {
  "kernelspec": {
   "display_name": "Python 3",
   "language": "python",
   "name": "python3"
  },
  "language_info": {
   "codemirror_mode": {
    "name": "ipython",
    "version": 3
   },
   "file_extension": ".py",
   "mimetype": "text/x-python",
   "name": "python",
   "nbconvert_exporter": "python",
   "pygments_lexer": "ipython3",
   "version": "3.7.4"
  }
 },
 "nbformat": 4,
 "nbformat_minor": 2
}
